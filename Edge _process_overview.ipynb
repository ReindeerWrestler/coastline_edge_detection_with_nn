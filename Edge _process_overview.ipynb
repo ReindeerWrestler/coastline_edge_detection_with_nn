{
 "cells": [
  {
   "cell_type": "markdown",
   "source": [
    "# Edge Detection on Plant Imagery for North Alaskan Coast\n",
    "This project is designed to create a method of detecting coastline\n",
    "in a set of given satellite imagery from planet labs. Specifically\n",
    "for the following code the coastlines that are being detected are \n",
    "located in northern Alaska. With the goal for this project being\n",
    "the accurate coastline detection of over 1000 km of northern Alaskan\n",
    "coastline to measure coastal erosion.\n",
    "\n",
    "To do this the following edge detection and threshold methods have\n",
    "been used: Canny edge detection, Sobel Edge Detection, \n",
    "Normalized Difference Water Index (NDWI), Holistically-Nested\n",
    "Edge Detection, and ISODATA clustering. Each of these methods have\n",
    "their strong and weak points when it comes to clustering. I will go\n",
    "over a outline of how each method work, show the method results on \n",
    "two sample images from the north Alaskan coast, and describe why\n",
    "the method was either chosen for further use in the project or \n",
    "dropped."
   ],
   "metadata": {
    "pycharm": {
     "metadata": false,
     "name": "#%% md\n"
    }
   }
  },
  {
   "cell_type": "markdown",
   "source": [
    "# Canny Edge Detection\n",
    "Canny edge detection is a multi-stage process used to detect edge on\n",
    "a wide array of images.\n",
    "\n",
    "Step 1:\n",
    "We first have to import opencv and numpy in addition to handle the images\n",
    "then load in the image as grayscale "
   ],
   "metadata": {
    "pycharm": {
     "metadata": false,
     "name": "#%% md\n"
    }
   }
  },
  {
   "cell_type": "code",
   "execution_count": null,
   "outputs": [],
   "source": [
    "import cv2\n",
    "import numpy as np\n",
    "image = \"/home/nelson/PycharmProjects/coastline_detection_with_LANDSAT/good_images/output2.jpg\"\n",
    "image = cv2.imread(image)\n",
    "image = cv2.cvtColor(image, cv2.COLOR_BGR2GRAY)  # cv2.COLOR_BGR2GRAY one of opencv many color change options"
   ],
   "metadata": {
    "pycharm": {
     "metadata": false,
     "name": "#%%\n"
    }
   }
  },
  {
   "cell_type": "markdown",
   "source": [
    "![](Edge_process_overview images/Original Grayscale.png \"Original Grayscale\")\n",
    "Now we need to apply a blur to the image. I know that applying a blur\n",
    "seems counter intuitive but it is useful for removing noise at the \n",
    "edge locations of the image. For this example we will be using a \n",
    "gaussian blur of size 5x5. This should remove most of the noise in\n",
    "our image."
   ],
   "metadata": {
    "pycharm": {
     "metadata": false,
     "name": "#%% md\n"
    }
   }
  },
  {
   "cell_type": "code",
   "execution_count": null,
   "outputs": [],
   "source": [
    "blur = cv2.GaussianBlur(image, (5, 5), 0)"
   ],
   "metadata": {
    "pycharm": {
     "metadata": false,
     "name": "#%%\n"
    }
   }
  },
  {
   "cell_type": "markdown",
   "source": [
    "![](Edge_process_overview images/Blurred.png \"Blurred\")\n",
    "Now we can apply canny edge detection on the blurred image. Part of \n",
    "canny edge detection is entering in the upper and lower bounds of \n",
    "the pixels in the image. Any pixels with a value higher than the upper\n",
    "bound is automatically considered an edge. While any pixels below the\n",
    "lower bound threshold are considered to be non-edges and are to be \n",
    "discarded. Values between the two thresholds are considered to be either\n",
    "edges or none edges based on their connectivity to other pixels. \n",
    "One method about thinking of this process is that edges are the \n",
    "points where two gaussian/bell curves meet."
   ],
   "metadata": {
    "pycharm": {
     "metadata": false,
     "name": "#%% md\n"
    }
   }
  },
  {
   "cell_type": "code",
   "execution_count": null,
   "outputs": [],
   "source": [
    "canny = cv2.Canny(blur, 30, 150)  # these values are just random"
   ],
   "metadata": {
    "pycharm": {
     "metadata": false,
     "name": "#%%\n"
    }
   }
  },
  {
   "cell_type": "markdown",
   "source": [
    "![](Edge_process_overview images/Canny.png \"Canny\")\n",
    "As you can see in this image canny edge detection works pretty well.\n",
    "You can see continuous edges from the coastline. It also picks up \n",
    "the ponds and lakes that are also in the image. The main problem with\n",
    "Canny Edge detection though is that it relies way to heavily on human\n",
    "inputted values for determining edges. This makes trying to use this process\n",
    "a poor choice for large amounts of images when a large variety of \n",
    "different conditions exist for those images. Exactly the situation for\n",
    "this project. An example of this is the following image with Canny Edge\n",
    "detection applied. \n",
    "![](Edge_process_overview images/Original2 Grayscale.png \"image 2\")\n",
    "Canny edge applied with the same values\n",
    "![](Edge_process_overview images/canny2.png \"Canny on image 2\")\n",
    "You'll see in this image that in the upper left corner parts of the \n",
    "island end up getting cut off. \n",
    "\n",
    "In the end though Canny edge is still a really good edge detection choice\n",
    "in most cases"
   ],
   "metadata": {
    "pycharm": {
     "metadata": false,
     "name": "#%% md\n"
    }
   }
  },
  {
   "cell_type": "markdown",
   "source": [
    "# Sobel Edge Detection\n",
    "Sobel Edge Detection is an approximation of the derivative of the image separated in\n",
    "the x and y directions.  These gradients are then added together. \n",
    "\n",
    "Step 1:\n",
    "This is also an opencv function. Lucky we already have opencv imported.\n",
    "We are also going to be using a grayscale image again. Which is still imported\n",
    "as the image object. We then apply the opencv sobel function to get the x and y\n",
    "gradient. To perform this operation we also need to convert the int8 pixels into 64 bit floats.\n",
    "Otherwise information will be lost since we are calculating gradients."
   ],
   "metadata": {
    "pycharm": {
     "metadata": false,
     "name": "#%% md\n"
    }
   }
  },
  {
   "cell_type": "code",
   "execution_count": null,
   "outputs": [],
   "source": [
    "sobelX = cv2.Sobel(image, cv2.CV_64F, 1, 0)\n",
    "sobelY = cv2.Sobel(image, cv2.CV_64F, 0, 1)"
   ],
   "metadata": {
    "pycharm": {
     "metadata": false,
     "name": "#%%\n"
    }
   }
  },
  {
   "cell_type": "markdown",
   "source": [
    "![](Edge_process_overview images/sobelx.png \"Sobel X gradient\")\n",
    "![](Edge_process_overview images/sobely.png \"Sobel Y gradient\")\n",
    "Step 2:\n",
    "we then have to convert the 64 float values back into int8. So that we have pixel\n",
    "values that are readable for image displaying. Followed by adding the x and y gradients together."
   ],
   "metadata": {
    "pycharm": {
     "metadata": false,
     "name": "#%% md\n"
    }
   }
  },
  {
   "cell_type": "code",
   "execution_count": null,
   "outputs": [],
   "source": [
    "sobelX = np.uint8(np.absolute(sobelX))\n",
    "sobelY = np.uint8(np.absolute(sobelY))\n",
    "sobelCombined = cv2.bitwise_or(sobelX, sobelY)"
   ],
   "metadata": {
    "pycharm": {
     "metadata": false,
     "name": "#%%\n"
    }
   }
  },
  {
   "cell_type": "markdown",
   "source": [
    "![](Edge_process_overview images/sobelCombined.png \"Sobel Combined gradient\")\n",
    "AS you can see this image shows the edges really well. The main problem though is that\n",
    "there is a bunch of additional noise that is also in the image. This noise shows up in\n",
    "the area of the image where ocean would normally be, Getting rid of these noisy pixels is\n",
    "necessary when an edge detection process is required to to have a high level accuracy.\n",
    "Thus sort of ruling it out for accurate coastline measurements. The reason that I say sort of is that\n",
    "Sobel edge detection is part of Canny Edge detection. The part of Canny Edge that \n",
    "operates between the threshold parameters contains Sobel edge detection within it.\n",
    "Which is why Sobel can be useful. It gives you the possibility to detect edges that\n",
    "you otherwise might miss with Canny Edge.\n",
    "\n",
    "# ISODATA Thresholding\n",
    "ISODATA thresholding is a clustering algorithm that takes the histogram of the entire image\n",
    "and divides them into two separate groups of data. In our case it separates the water from the land.\n",
    "It matters in this case as to what band layer that this process is applied to. The near infrared \n",
    "is the layer that gets the best results due to the greatest difference between water and land.\n",
    "\n",
    "Step 1:\n",
    "For this process we need to use the sckit-image package which contains the appropriate \n",
    "functions to read a tiff file and an implemented ISODATA function."
   ],
   "metadata": {
    "pycharm": {
     "metadata": false,
     "name": "#%% md\n"
    }
   }
  },
  {
   "cell_type": "code",
   "execution_count": 1,
   "outputs": [],
   "source": [
    "from skimage import io, img_as_uint\n",
    "from skimage.filters import threshold_isodata\n",
    "tiff_image = \"/home/nelson/PycharmProjects/coastline_detection_with_LANDSAT/\" \\\n",
    "             \"Oliktok OVR Files/671610_2013-07-21_RE5_3A_Analytic_clip.tif\"\n",
    "tif = io.imread(tiff_image)  # importing the tiff file\n",
    "ir_layer = tif[4]  # the NIR layer of the tiff layer"
   ],
   "metadata": {
    "pycharm": {
     "metadata": false,
     "name": "#%%\n",
     "is_executing": false
    }
   }
  },
  {
   "cell_type": "markdown",
   "source": [
    "Step 2:\n",
    "We then need to get the ISODATA threshold value. Followed with applying it to the \n",
    "original image. The resulting image is then saved in a png file which requires the\n",
    "conversion of the int16 pixel values to the int8 pixel values"
   ],
   "metadata": {
    "pycharm": {
     "metadata": false,
     "name": "#%% md\n"
    }
   }
  },
  {
   "cell_type": "code",
   "execution_count": null,
   "outputs": [],
   "source": [
    "thres = threshold_isodata(ir_layer)\n",
    "result = ir_layer > thres\n",
    "io.imsave(\"isodata_thres.png\", img_as_uint(result))"
   ],
   "metadata": {
    "pycharm": {
     "metadata": false,
     "name": "#%%\n"
    }
   }
  },
  {
   "cell_type": "markdown",
   "source": [
    "![](Edge_process_overview images/isodata_thres.png \"ISODATA result\")\n",
    "As you can see in the resulting image ISODATA has one of the best performing\n",
    "coastline detection methods. Pulling out a continuous contour of the \n",
    "coastline. Which an edge can easily be extracted through the used of Canny Edge.\n",
    "This is only the case when there are enough land pixels in an image\n",
    "though. If there are not enough land pixels in an image you instead get a mess \n",
    "of static noise in the image. This is easily with a change in the image file."
   ],
   "metadata": {
    "pycharm": {
     "metadata": false,
     "name": "#%% md\n"
    }
   }
  },
  {
   "cell_type": "code",
   "execution_count": null,
   "outputs": [],
   "source": [
    "tiff_image_bad = \"/home/nelson/PycharmProjects/coastline_detection_with_LANDSAT/\" \\\n",
    "                 \"Oliktok OVR Files/671710_2013-07-21_RE5_3A_Analytic_clip.tif\"\n",
    "tif = io.imread(tiff_image_bad)  # importing the tiff file\n",
    "ir_layer = tif[4]  # the NIR layer of the tiff layer\n",
    "thres = threshold_isodata(ir_layer)\n",
    "result = ir_layer > thres\n",
    "io.imsave(\"isodata_thres_bad.png\", img_as_uint(result))"
   ],
   "metadata": {
    "pycharm": {
     "metadata": false,
     "name": "#%%\n"
    }
   }
  },
  {
   "cell_type": "markdown",
   "source": [
    "![](Edge_process_overview images/isodata_thres_bad.png \"ISODATA result bad\")\n",
    "As you can see this image does not really show the coastline in this image.\n",
    "\n",
    "In the end though out of all the methods that have been applied in this process\n",
    "ISODATA has the best performance. Provided that enough land pixels have been\n",
    "included in the original image. It just means that when applying ISODATA threshold\n",
    "to an image make sure to test the result with another process to make sure no\n",
    "mistakes were made.\n",
    "\n",
    "# Normalized Difference Water Index (NDWI)\n",
    "NDWI uses the properties of the different band layers in the tiff files to \n",
    "determine the difference between water and land. It does this by taking \n",
    "advantage of simple matrix math. \n",
    "\n",
    "Step 1:\n",
    "Use the image that was previously imported for the ISODATA threholding and \n",
    "perform the following math.\n",
    "NDWI = (green band - near infrared band) / (green band + near infrared band)"
   ],
   "metadata": {
    "pycharm": {
     "metadata": false,
     "name": "#%% md\n"
    }
   }
  },
  {
   "cell_type": "code",
   "execution_count": null,
   "outputs": [],
   "source": [
    "ndwi_im = (tif[1] - tif[4]) / (tif[1] + tif[4])"
   ],
   "metadata": {
    "pycharm": {
     "metadata": false,
     "name": "#%%\n"
    }
   }
  },
  {
   "cell_type": "markdown",
   "source": [
    "![](Edge_process_overview images/ndwi.png \"NDWI results\")\n",
    "As you can see in the resulting image when it comes to coastline extraction \n",
    "NDWI does not really perform all that well. It really breaks down when \n",
    "viewing the shore between the water and the land. This is due to NDWI's strong\n",
    "point not being accuracy in determining the boundaries between water and land but\n",
    "instead determining if there is water in an image. Making it a \n",
    "process that is likely not to be used very often in this project.\n",
    "\n",
    "# Holistically-Nested Edge Detection\n",
    "Holistic Edge is the final edge detection process that was implemented for this\n",
    "project. It is the only edge detection process that utilizes a pre-trained neural network.\n",
    "By using that neural network Holistic Edge is able to learn the hierarchical representations\n",
    "that represent the edges in the image. Allowing for higher accuracy in performance on \n",
    "general edge detection problems than any other method of edge detection in this project.\n",
    "\n",
    "Step 1:\n",
    "We first have to import in the pre-trained model that will be used.\n",
    "This is done in this project by using caffe and opencv."
   ],
   "metadata": {
    "pycharm": {
     "metadata": false,
     "name": "#%% md\n"
    }
   }
  },
  {
   "cell_type": "code",
   "execution_count": null,
   "outputs": [],
   "source": [
    "image = \"/home/nelson/PycharmProjects/coastline_detection_with_LANDSAT/good_images/output2.jpg\"\n",
    "image = cv2.imread(image)\n",
    "holistic_proto_path = \"hed_model/deploy.prototxt\"\n",
    "holistic_model_path = \"hed_model/hed_pretrained_bsds.caffemodel\"\n",
    "net = cv2.dnn.readNetFromCaffe(holistic_proto_path, holistic_model_path)  # read model in"
   ],
   "metadata": {
    "pycharm": {
     "metadata": false,
     "name": "#%%\n"
    }
   }
  },
  {
   "cell_type": "markdown",
   "source": [
    "Step 2:\n",
    "We now need to create a class that we can use to crop layers of the network.\n",
    "Allowing us to derive in input shape, batch size, input channels, height and target width.\n",
    "Which are then passed to each layer in the neural network."
   ],
   "metadata": {
    "pycharm": {
     "metadata": false,
     "name": "#%% md\n"
    }
   }
  },
  {
   "cell_type": "code",
   "execution_count": null,
   "outputs": [],
   "source": [
    "class CropLayer(object):\n",
    "    def __init__(self, params, blobs):\n",
    "        # initialize our starting and ending (x, y)-coordinates of\n",
    "        # the crop\n",
    "        self.startX = 0\n",
    "        self.startY = 0\n",
    "        self.endX = 0\n",
    "        self.endY = 0\n",
    "\n",
    "    def getMemoryShapes(self, inputs):\n",
    "        # the crop layer will receive two inputs -- we need to crop\n",
    "        # the first input blob to match the shape of the second one,\n",
    "        # keeping the batch size and number of channels\n",
    "        (inputShape, targetShape) = (inputs[0], inputs[1])\n",
    "        (batchSize, numChannels) = (inputShape[0], inputShape[1])\n",
    "        (H, W) = (targetShape[2], targetShape[3])\n",
    "\n",
    "        # compute the starting and ending crop coordinates\n",
    "        self.startX = int((inputShape[3] - targetShape[3]) / 2)\n",
    "        self.startY = int((inputShape[2] - targetShape[2]) / 2)\n",
    "        self.endX = self.startX + W\n",
    "        self.endY = self.startY + H\n",
    "        # return the shape of the volume (we'll perform the actual\n",
    "        # crop during the forward pass\n",
    "        return [[batchSize, numChannels, H, W]]\n",
    "\n",
    "    def forward(self, inputs):\n",
    "        # use the derived (x, y)-coordinates to perform the crop\n",
    "        return [inputs[0][:, :, self.startY:self.endY,\n",
    "                self.startX:self.endX]]"
   ],
   "metadata": {
    "pycharm": {
     "metadata": false,
     "name": "#%%\n"
    }
   }
  },
  {
   "cell_type": "markdown",
   "source": [
    "Step 3:\n",
    "Now we construct a blob from out image that we pass through the holistic neural network.\n",
    "Which after rescaling the resulting pixels back to int8 we have our edge image."
   ],
   "metadata": {
    "pycharm": {
     "metadata": false,
     "name": "#%% md\n"
    }
   }
  },
  {
   "cell_type": "code",
   "execution_count": null,
   "outputs": [],
   "source": [
    "(H, W) = image.shape[:2]\n",
    "blob = cv2.dnn.blobFromImage(image, scalefactor=1.0, size=(W, H),\n",
    "                                     mean=(104.00698793, 116.66876762, 122.67891434),\n",
    "                                     swapRB=False, crop=False)\n",
    "net.setInput(blob)\n",
    "hed = net.forward()\n",
    "hed = cv2.resize(hed[0, 0], (W, H))\n",
    "hed = (255 * hed).astype(\"uint8\")"
   ],
   "metadata": {
    "pycharm": {
     "metadata": false,
     "name": "#%%\n"
    }
   }
  },
  {
   "cell_type": "markdown",
   "source": [
    "![](Edge_process_overview images/holistic.png \"Holistic results\")\n",
    "Holistic works really well at actually finding the edges of the images. It even works\n",
    "in cases with the islands that were shown in the second ISODATA image. On the other \n",
    "hand it does not really do accuracy really well. As you can see the resulting edges on the image\n",
    "are several pixels wide. Which prevents holistic from being the method of choice for coastline\n",
    "extraction. It does make Holistic the best tool to test any of the other methods to ensure that \n",
    "they are not failing in there process.\n",
    "\n",
    "# Planet Imagery Conversions\n",
    "This is not an edge detection process. It instead is about converting the TIFF files that \n",
    "represent the data from Planet labs to a format that is usable by all of the opencv \n",
    "methods that are used in this project. I'm including this because this is currently done\n",
    "using terminal commands that are given to gdal_translate. I attempted to convert this process\n",
    "to python but was unable to do so. If you are able to figure this out I HIGHLY RECOMMEND THAT \n",
    "YOU CHANGE THE CURRENT CODE.\n",
    "\n",
    "Anyway here are the commands and what they are doing. Which I will not actually show in the\n",
    "python console since the only alteration is wrapping the command in a sys.system call.\n",
    "\n",
    "First command:\n",
    "gdal_translate tiff_file intermediate_tif -b 3 -b 2 -b 1 -co COMPRESS=DEFLATE -co PHOTOMETRIC=RGB\n",
    "This command takes out the first three bands of the original tiff file and moves them to correct band\n",
    "structure for an RBG image\n",
    "\n",
    "gdalinfo -mm intermediate_tif\n",
    "The next command is used to obtain the pixel min and max for each of the bands. The min and max for the\n",
    "entire file are then used in the below command.\n",
    "\n",
    "gdal_translate intermediate_tif scaled_tif -scale 570 23800 0 65535 -exponent 0.5 -co COMPRESS=DEFLATE -co PHOTOMETRIC=RGB\n",
    "Now the tif file has its pixel values rescaled to values of a correct scale for showing color images.\n",
    "If this command is not run the image appears very dark.\n",
    "\n",
    "gdal_translate -of JPEG -scale -co worldfile=yes scaled_tif final_file_name\n",
    "Finally this last command translates the tif file into a JPEG file.\n",
    "\n",
    "\n",
    "# Help Installing opencv\n",
    "Installing opencv can be a major pain. There are some binary packages that you can install\n",
    "but one of the problems with those is that sometimes are unable to perform I/O or other\n",
    "important functions. So I'm including some resources to help you install opencv\n",
    "\n",
    "The easiest way that I found is to install __[Anaconda](https://www.anaconda.com/)__\n",
    "then use the following command in the terminal\n",
    "conda install -c conda-forge opencv\n",
    "\n",
    "Otherwise the following are some good tutorials to install opencv \n",
    "__[pyimagesearch](https://www.pyimagesearch.com/2018/09/19/pip-install-opencv/)__\n",
    "__[pydeeplearning](https://pydeeplearning.com/opencv/install-opencv-with-c-on-ubuntu-18-04/)__\n",
    "\n",
    "Take the easy way is what I recommend since install opencv is highly machine \n",
    "dependent so it is very easy to run into problems.\n",
    "\n",
    "\n",
    "# Wrap up\n",
    "I hope that this was enough for you to be able to have an overview of all of the edge \n",
    "detection methods that I have implemented. I know that the next stage of the project is\n",
    "to output the edge results of some of these processes to the band layers of the \n",
    "original tiff files. I recommend using ISODATA with Holistic as a testing backup.\n",
    "While possible including Canny Edge if you want to. Just find a way to set the \n",
    "threshold values that works.\n",
    "\n",
    "The resulting band layers should be enough to allow you to construct vectors that you\n",
    "will need to began to actually track the coastlines over a time series, Good luck.\n"
   ],
   "metadata": {
    "pycharm": {
     "metadata": false,
     "name": "#%% md\n"
    }
   }
  }
 ],
 "metadata": {
  "language_info": {
   "codemirror_mode": {
    "name": "ipython",
    "version": 2
   },
   "file_extension": ".py",
   "mimetype": "text/x-python",
   "name": "python",
   "nbconvert_exporter": "python",
   "pygments_lexer": "ipython2",
   "version": "2.7.6"
  },
  "kernelspec": {
   "name": "python3",
   "language": "python",
   "display_name": "Python 3"
  },
  "stem_cell": {
   "cell_type": "raw",
   "source": "",
   "metadata": {
    "pycharm": {
     "metadata": false
    }
   }
  }
 },
 "nbformat": 4,
 "nbformat_minor": 0
}